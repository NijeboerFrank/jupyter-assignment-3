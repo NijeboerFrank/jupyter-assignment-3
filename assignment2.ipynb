{
 "cells": [
  {
   "cell_type": "markdown",
   "metadata": {},
   "source": [
    "# Introduction to digital forensics of cybercrime\n",
    "## Assignment 2 - Database forensics\n",
    "### Project Group 4\n",
    "    Loek van der Gugten 1975331\n",
    "    Reinier de Ridder   1701134\n",
    "    Frank Nijeboer      2011972\n",
    "    Jos Bartels         1941224\n",
    "    Dionne Kingma       2419874\n",
    "    Hanneke Verschoor   1954334"
   ]
  },
  {
   "cell_type": "markdown",
   "metadata": {},
   "source": [
    "## Motivation and Goals"
   ]
  },
  {
   "cell_type": "markdown",
   "metadata": {},
   "source": [
    "## Methodology"
   ]
  },
  {
   "cell_type": "markdown",
   "metadata": {},
   "source": [
    "## Data\n",
    "The data used in this assignment is loaded from the provided 'table_attack_twbooter.xls'. One slight edit has been made to this document: the url subdomains and prefix have been removed from the victim ip adresses and urls. This is to enable easier analysis of the victims using regular expressions.\n",
    "\n",
    "For each data segment we briefly explain how we gathered it and why it is useful to have it."
   ]
  },
  {
   "cell_type": "code",
   "execution_count": 1,
   "metadata": {},
   "outputs": [],
   "source": [
    "# Load the DataFrame imported in preprocessing.py\n",
    "from preprocessing import attack_df\n",
    "# Import matplotlib library\n",
    "import matplotlib.pyplot as plt"
   ]
  },
  {
   "cell_type": "code",
   "execution_count": 2,
   "metadata": {
    "scrolled": true
   },
   "outputs": [
    {
     "data": {
      "text/html": [
       "<div>\n",
       "<style scoped>\n",
       "    .dataframe tbody tr th:only-of-type {\n",
       "        vertical-align: middle;\n",
       "    }\n",
       "\n",
       "    .dataframe tbody tr th {\n",
       "        vertical-align: top;\n",
       "    }\n",
       "\n",
       "    .dataframe thead th {\n",
       "        text-align: right;\n",
       "    }\n",
       "</style>\n",
       "<table border=\"1\" class=\"dataframe\">\n",
       "  <thead>\n",
       "    <tr style=\"text-align: right;\">\n",
       "      <th></th>\n",
       "      <th>id</th>\n",
       "      <th>processid</th>\n",
       "      <th>victim</th>\n",
       "      <th>port_service`_type</th>\n",
       "      <th>type</th>\n",
       "      <th>duration</th>\n",
       "      <th>time</th>\n",
       "      <th>stopped</th>\n",
       "      <th>client_attacker</th>\n",
       "      <th>server_used_in_th_attack</th>\n",
       "    </tr>\n",
       "  </thead>\n",
       "  <tbody>\n",
       "    <tr>\n",
       "      <td>0</td>\n",
       "      <td>1</td>\n",
       "      <td>5672</td>\n",
       "      <td>91.214.20.52</td>\n",
       "      <td>80</td>\n",
       "      <td>ESSYN</td>\n",
       "      <td>33</td>\n",
       "      <td>1358989954</td>\n",
       "      <td>1</td>\n",
       "      <td>1</td>\n",
       "      <td>94.102.49.76</td>\n",
       "    </tr>\n",
       "    <tr>\n",
       "      <td>1</td>\n",
       "      <td>2</td>\n",
       "      <td>29065</td>\n",
       "      <td>91.214.20.52</td>\n",
       "      <td>80</td>\n",
       "      <td>UDP</td>\n",
       "      <td>1783</td>\n",
       "      <td>1358990329</td>\n",
       "      <td>1</td>\n",
       "      <td>1</td>\n",
       "      <td>93.174.93.30</td>\n",
       "    </tr>\n",
       "    <tr>\n",
       "      <td>2</td>\n",
       "      <td>3</td>\n",
       "      <td>23005</td>\n",
       "      <td>78.31.8.124</td>\n",
       "      <td>80</td>\n",
       "      <td>ESSYN</td>\n",
       "      <td>393</td>\n",
       "      <td>1358991360</td>\n",
       "      <td>0</td>\n",
       "      <td>1</td>\n",
       "      <td>89.248.172.97</td>\n",
       "    </tr>\n",
       "    <tr>\n",
       "      <td>3</td>\n",
       "      <td>4</td>\n",
       "      <td>29411</td>\n",
       "      <td>199.204.44.188</td>\n",
       "      <td>80</td>\n",
       "      <td>ESSYN</td>\n",
       "      <td>60</td>\n",
       "      <td>1358995416</td>\n",
       "      <td>0</td>\n",
       "      <td>4</td>\n",
       "      <td>93.174.93.30</td>\n",
       "    </tr>\n",
       "    <tr>\n",
       "      <td>4</td>\n",
       "      <td>5</td>\n",
       "      <td>19298</td>\n",
       "      <td>chrome-mods.com</td>\n",
       "      <td>80</td>\n",
       "      <td>RUDY</td>\n",
       "      <td>50000</td>\n",
       "      <td>1358995471</td>\n",
       "      <td>1</td>\n",
       "      <td>3</td>\n",
       "      <td>72.9.144.80</td>\n",
       "    </tr>\n",
       "    <tr>\n",
       "      <td>...</td>\n",
       "      <td>...</td>\n",
       "      <td>...</td>\n",
       "      <td>...</td>\n",
       "      <td>...</td>\n",
       "      <td>...</td>\n",
       "      <td>...</td>\n",
       "      <td>...</td>\n",
       "      <td>...</td>\n",
       "      <td>...</td>\n",
       "      <td>...</td>\n",
       "    </tr>\n",
       "    <tr>\n",
       "      <td>48768</td>\n",
       "      <td>48840</td>\n",
       "      <td>15874|1992|28878|32327</td>\n",
       "      <td>109.234.152.119</td>\n",
       "      <td>1973</td>\n",
       "      <td>ESSYN</td>\n",
       "      <td>300</td>\n",
       "      <td>1363351101</td>\n",
       "      <td>0</td>\n",
       "      <td>258</td>\n",
       "      <td>94.102.49.79|94.102.51.252|89.248.160.146|89.2...</td>\n",
       "    </tr>\n",
       "    <tr>\n",
       "      <td>48769</td>\n",
       "      <td>48841</td>\n",
       "      <td>15022|19087|28887</td>\n",
       "      <td>94.242.205.227</td>\n",
       "      <td>80</td>\n",
       "      <td>SOURCE</td>\n",
       "      <td>65</td>\n",
       "      <td>1363351473</td>\n",
       "      <td>1</td>\n",
       "      <td>261</td>\n",
       "      <td>72.9.144.80|67.222.156.241|89.248.160.146</td>\n",
       "    </tr>\n",
       "    <tr>\n",
       "      <td>48770</td>\n",
       "      <td>48842</td>\n",
       "      <td>15026|19091|28896</td>\n",
       "      <td>94.242.205.227</td>\n",
       "      <td>80</td>\n",
       "      <td>ARME</td>\n",
       "      <td>65</td>\n",
       "      <td>1363351493</td>\n",
       "      <td>1</td>\n",
       "      <td>261</td>\n",
       "      <td>72.9.144.80|67.222.156.241|89.248.160.146</td>\n",
       "    </tr>\n",
       "    <tr>\n",
       "      <td>48771</td>\n",
       "      <td>48843</td>\n",
       "      <td>15898|3409|32693|2010</td>\n",
       "      <td>94.242.205.227</td>\n",
       "      <td>80</td>\n",
       "      <td>ESSYN</td>\n",
       "      <td>65</td>\n",
       "      <td>1363351507</td>\n",
       "      <td>1</td>\n",
       "      <td>261</td>\n",
       "      <td>94.102.49.79|89.248.172.96|89.248.162.242|94.1...</td>\n",
       "    </tr>\n",
       "    <tr>\n",
       "      <td>48772</td>\n",
       "      <td>48844</td>\n",
       "      <td>15907|3418|32702|20944</td>\n",
       "      <td>94.242.205.227</td>\n",
       "      <td>80</td>\n",
       "      <td>ESSYN</td>\n",
       "      <td>65</td>\n",
       "      <td>1363351516</td>\n",
       "      <td>0</td>\n",
       "      <td>261</td>\n",
       "      <td>94.102.49.79|89.248.172.96|89.248.162.242|89.2...</td>\n",
       "    </tr>\n",
       "  </tbody>\n",
       "</table>\n",
       "<p>48773 rows × 10 columns</p>\n",
       "</div>"
      ],
      "text/plain": [
       "          id               processid           victim  port_service`_type  \\\n",
       "0          1                    5672     91.214.20.52                  80   \n",
       "1          2                   29065     91.214.20.52                  80   \n",
       "2          3                   23005      78.31.8.124                  80   \n",
       "3          4                   29411   199.204.44.188                  80   \n",
       "4          5                   19298  chrome-mods.com                  80   \n",
       "...      ...                     ...              ...                 ...   \n",
       "48768  48840  15874|1992|28878|32327  109.234.152.119                1973   \n",
       "48769  48841       15022|19087|28887   94.242.205.227                  80   \n",
       "48770  48842       15026|19091|28896   94.242.205.227                  80   \n",
       "48771  48843   15898|3409|32693|2010   94.242.205.227                  80   \n",
       "48772  48844  15907|3418|32702|20944   94.242.205.227                  80   \n",
       "\n",
       "         type  duration        time  stopped  client_attacker  \\\n",
       "0       ESSYN        33  1358989954        1                1   \n",
       "1         UDP      1783  1358990329        1                1   \n",
       "2       ESSYN       393  1358991360        0                1   \n",
       "3       ESSYN        60  1358995416        0                4   \n",
       "4        RUDY     50000  1358995471        1                3   \n",
       "...       ...       ...         ...      ...              ...   \n",
       "48768   ESSYN       300  1363351101        0              258   \n",
       "48769  SOURCE        65  1363351473        1              261   \n",
       "48770    ARME        65  1363351493        1              261   \n",
       "48771   ESSYN        65  1363351507        1              261   \n",
       "48772   ESSYN        65  1363351516        0              261   \n",
       "\n",
       "                                server_used_in_th_attack  \n",
       "0                                           94.102.49.76  \n",
       "1                                           93.174.93.30  \n",
       "2                                          89.248.172.97  \n",
       "3                                           93.174.93.30  \n",
       "4                                            72.9.144.80  \n",
       "...                                                  ...  \n",
       "48768  94.102.49.79|94.102.51.252|89.248.160.146|89.2...  \n",
       "48769          72.9.144.80|67.222.156.241|89.248.160.146  \n",
       "48770          72.9.144.80|67.222.156.241|89.248.160.146  \n",
       "48771  94.102.49.79|89.248.172.96|89.248.162.242|94.1...  \n",
       "48772  94.102.49.79|89.248.172.96|89.248.162.242|89.2...  \n",
       "\n",
       "[48773 rows x 10 columns]"
      ]
     },
     "execution_count": 2,
     "metadata": {},
     "output_type": "execute_result"
    }
   ],
   "source": [
    "# Display the DataFrame to show used data as imported from 'table_attack_twbooter.xls'\n",
    "attack_df"
   ]
  },
  {
   "cell_type": "markdown",
   "metadata": {},
   "source": [
    "## Analysis"
   ]
  },
  {
   "cell_type": "markdown",
   "metadata": {},
   "source": [
    "### The total number of attack records\n",
    "As described in the 'Methodology', this number simply is the total amount of row entries. This number shows how many attacks have been performed."
   ]
  },
  {
   "cell_type": "code",
   "execution_count": 3,
   "metadata": {},
   "outputs": [
    {
     "name": "stdout",
     "output_type": "stream",
     "text": [
      "48773\n"
     ]
    }
   ],
   "source": [
    "# Get available index, effectively number of entries in the DataFrame\n",
    "attack_entries = attack_df.index\n",
    "# Display lenght of index, resulting in int of entries in the DataFrame\n",
    "print(len(attack_entries))"
   ]
  },
  {
   "cell_type": "markdown",
   "metadata": {},
   "source": [
    "### Number of unique users\n",
    "This number can be found by looking at the amount of unique entries in the column 'client_attacker'. It gives an idea of how many people come to this website to perform attacks and can also provide an estimate about how many attacks each user performs. "
   ]
  },
  {
   "cell_type": "code",
   "execution_count": 4,
   "metadata": {},
   "outputs": [
    {
     "name": "stdout",
     "output_type": "stream",
     "text": [
      "277\n"
     ]
    }
   ],
   "source": [
    "# Get number of unique values in \"client_attacker\" column\n",
    "attackers = attack_df[\"client_attacker\"].nunique()\n",
    "# Display number\n",
    "print(attackers)"
   ]
  },
  {
   "cell_type": "markdown",
   "metadata": {},
   "source": [
    "### Top 10 Victim IP Addresses\n",
    "The graph below shows the top 10 occuring ip addresses in the column 'victim'. The numbers have been retrieved by filtering the entries of this column on a combination of 4 numbers with dots in between (as is the format of an ip address), and then per unique occurence counting the amount of duplicates. The 10 most occuring ones are listed in the diagram.\n",
    "\n",
    "This data is interesting for the users of those ip addresses. It shows them that they are being targeted quite frequently compared to other victims. If we were to investigate these addresses further, it could also show us motives for the attackers to attack these addresses so often."
   ]
  },
  {
   "cell_type": "code",
   "execution_count": 5,
   "metadata": {},
   "outputs": [
    {
     "data": {
      "image/png": "[encoded data removed]",
      "text/plain": [
       "<Figure size 432x288 with 1 Axes>"
      ]
     },
     "metadata": {
      "needs_background": "light"
     },
     "output_type": "display_data"
    }
   ],
   "source": [
    "# IPython magic command for bts setup\n",
    "%matplotlib inline\n",
    "# Get values in column 'victim' that contains an ip adress (RegEx)\n",
    "victims_ips = attack_df[attack_df[\"victim\"].str.contains(\"[0-9].[0-9].[0-9].[0-9]\")]\n",
    "# Count number of entries for each value in 'victim' column, take the top 10, sort these in descending order and plot as a horizontal bar graph\n",
    "victims_ips[\"victim\"].value_counts().head(10).sort_values().plot.barh()\n",
    "# Display the graph\n",
    "plt.show()"
   ]
  },
  {
   "cell_type": "markdown",
   "metadata": {},
   "source": [
    "### Top 10 Victim Domain Names\n",
    "This diagram has been generated similarly to the previous one ('Top 10 Victim IP Addresses'). The only difference is that instead of filtering the entries on numbers with dots in between, they are filtered on containing a (non)capital letter.\n",
    "\n",
    "Like the way we analysed this data, the use for it is also the same as the previous section 'Top 10 Victim IP Addresses'. Domain names could be more interesting because they could be valued more than an IP address, but this isn't necessarily the case."
   ]
  },
  {
   "cell_type": "code",
   "execution_count": 6,
   "metadata": {},
   "outputs": [
    {
     "data": {
      "image/png": "[encoded data removed]",
      "text/plain": [
       "<Figure size 432x288 with 1 Axes>"
      ]
     },
     "metadata": {
      "needs_background": "light"
     },
     "output_type": "display_data"
    }
   ],
   "source": [
    "# Get values in column 'victim' that contains an url (RegEx)\n",
    "victim_domains = attack_df[attack_df[\"victim\"].str.contains(\"[A-z]\")]\n",
    "# Count number of entries for each value in 'victim' column, take the top 10, sort these in descending order and plot as a horizontal bar graph\n",
    "victim_domains[\"victim\"].value_counts().head(10).sort_values().plot.barh()\n",
    "# Display the graph\n",
    "plt.show()"
   ]
  },
  {
   "cell_type": "markdown",
   "metadata": {},
   "source": [
    "### The longest attack duration\n",
    "Trivially the longest attack duration is the highest number in the column 'duration'. This is the first number below. We also determined how many attacks took this long, see the second number below.\n",
    "\n",
    "With this information we now have sort of an upper bound on how long a single attacks last. The amount of attacks that took this long also show us at what rate this happens."
   ]
  },
  {
   "cell_type": "code",
   "execution_count": 27,
   "metadata": {},
   "outputs": [
    {
     "name": "stdout",
     "output_type": "stream",
     "text": [
      "500000 35\n"
     ]
    }
   ],
   "source": [
    "# Get biggest value in 'duration' column\n",
    "duration = attack_df['duration'].max()\n",
    "amount_of_duration = attack_df['duration'].value_counts().get(500000)\n",
    "# amount_of_duration = attack_df['duration'].count(duration)\n",
    "# Display value\n",
    "print(duration, amount_of_duration)"
   ]
  },
  {
   "cell_type": "markdown",
   "metadata": {},
   "source": [
    "### Top 3 attack type\n",
    "Here we display the top 3 types of attacks. The diagram below shows the three types of attacks, with the amount of attacks displayed on the horizontal axis. We determined these values by counting the amount of occurences in the column 'type' per type of attack and then plotting the top three from that list.\n",
    "\n",
    "This shows which type(s) of attack(s) is (are) executed most often, and thus which type of attack is most likely preferred by attackers. This information could help with determining what type of attack to focus on when for example defending your system from these attacks."
   ]
  },
  {
   "cell_type": "code",
   "execution_count": 8,
   "metadata": {},
   "outputs": [
    {
     "data": {
      "image/png": "[encoded data removed]",
      "text/plain": [
       "<Figure size 432x288 with 1 Axes>"
      ]
     },
     "metadata": {
      "needs_background": "light"
     },
     "output_type": "display_data"
    }
   ],
   "source": [
    "# Count number of entries for each value in 'type' column\n",
    "attack_types = attack_df['type'].value_counts()\n",
    "# Take the top 3, sort these in descending order and plot as a horizontal bar graph\n",
    "attack_types.head(3).sort_values().plot.barh()\n",
    "# Display the graph\n",
    "plt.show()"
   ]
  },
  {
   "cell_type": "markdown",
   "metadata": {},
   "source": [
    "### Which owner id performed most of the attacks\n",
    "The two lines and the diagram below show the id that performed the highest amount of attacks and a top 10 diagram of the id's that performed attacks. The id that performed the highest amount of attacks we found by calculating the id that occurs most frequently in the column 'client_attacker'. The values in the diagram are determined like the types of attacks in the previous segment.\n",
    "\n",
    "This information shows us which owner id's performed the highest amount of attacks. If we were to try and identify attackers these would be id's to focus on since they performed a lot of attacks."
   ]
  },
  {
   "cell_type": "code",
   "execution_count": 9,
   "metadata": {},
   "outputs": [
    {
     "name": "stdout",
     "output_type": "stream",
     "text": [
      "0    272\n",
      "dtype: int64\n"
     ]
    },
    {
     "data": {
      "image/png": "[encoded data removed]",
      "text/plain": [
       "<Figure size 432x288 with 1 Axes>"
      ]
     },
     "metadata": {
      "needs_background": "light"
     },
     "output_type": "display_data"
    }
   ],
   "source": [
    "# Get the modes (highest frequency value) of 'client_attacker' column\n",
    "attack_id = attack_df['client_attacker'].mode()\n",
    "# Display modes\n",
    "print(attack_id)\n",
    "\n",
    "# Count number of entries for each value in 'client_attacker' column\n",
    "attack_id = attack_df['client_attacker'].value_counts()\n",
    "# Take the top 10, sort these in descending order and plot as a horizontal bar graph\n",
    "attack_id.head(10).sort_values().plot.barh()\n",
    "# Display graph\n",
    "plt.show()"
   ]
  },
  {
   "cell_type": "markdown",
   "metadata": {},
   "source": [
    "### How many attacks 'krebsonsecurity.com' suffered\n",
    "The number below shows how many attacks the domain 'krebsonsecurity.com' has suffered. It is found by looking up the amount of entries that contain 'krebsonsecurity.com' in the column 'victim'.\n",
    "\n",
    "This number shows how often the domain of journalist Brian Krebs has been targeted by attacks from TWBooter."
   ]
  },
  {
   "cell_type": "code",
   "execution_count": 10,
   "metadata": {},
   "outputs": [
    {
     "name": "stdout",
     "output_type": "stream",
     "text": [
      "15\n"
     ]
    }
   ],
   "source": [
    "# Get entries containing 'krebsonsecurity.com' from 'victims' column\n",
    "# This ensures also values with added subdomains etc are included\n",
    "kreb_attacks = attack_df[attack_df.victim.str.contains('krebsonsecurity.com')]\n",
    "# Display lenght of entries, resulting in int of entries in the DataFrame\n",
    "print(len(kreb_attacks))"
   ]
  },
  {
   "cell_type": "markdown",
   "metadata": {},
   "source": [
    "### Two statistics that aren't listed above"
   ]
  },
  {
   "cell_type": "markdown",
   "metadata": {},
   "source": [
    "#### How often is port 80 used in port_service_type\n",
    "The number and percentage below show how often port 80 has been used in attacks. This is interesting because port 80 is the HTTP port, so it shows how often a HTTP connection has been targeted.\n",
    "The circlediagram below shows which percentage of the total amount of attacks has been performed on which port.\n",
    "\n",
    "The data has been determined by filtering the entries in the column 'port_service_type' on value 80. The circlediagram has been created from the counts of occurneces of each entry in this column."
   ]
  },
  {
   "cell_type": "code",
   "execution_count": 11,
   "metadata": {},
   "outputs": [
    {
     "name": "stdout",
     "output_type": "stream",
     "text": [
      "37571 out of 48773\n",
      "77%\n"
     ]
    },
    {
     "data": {
      "image/png": "[encoded data removed]",
      "text/plain": [
       "<Figure size 432x288 with 1 Axes>"
      ]
     },
     "metadata": {},
     "output_type": "display_data"
    }
   ],
   "source": [
    "# Get entries in 'port_service' column that equal 80\n",
    "port80_attacks = attack_df[attack_df['port_service`_type']==80]\n",
    "# Display lenght of entries, resulting in int of entries in the DataFrame compared to total number of entries\n",
    "print(str(len(port80_attacks)) + ' out of ' + str(len(attack_entries)))\n",
    "# Calculate and display percentage of '80' entries\n",
    "print(str(int(len(port80_attacks)/len(attack_entries)*100))+'%')\n",
    "\n",
    "# Count number of entries for each value in 'port_service' column\n",
    "port80_plot = attack_df[\"port_service`_type\"].value_counts()\n",
    "# Plot pie graph\n",
    "port80_plot.plot.pie(autopct='%1.1f%%')\n",
    "# Display graph\n",
    "plt.show()"
   ]
  },
  {
   "cell_type": "markdown",
   "metadata": {},
   "source": [
    "#### What percentage of attacks got stopped\n",
    "The numbers and circlediagram below show how many of the attacks got stopped, and how many didn't. A '1' in the column 'stopped' means that the attack from that entry got stopped, a '0' means it didn't get stopped. Simply counting the amount of 1's and 0's in this column provide us with the data displayed below."
   ]
  },
  {
   "cell_type": "code",
   "execution_count": 12,
   "metadata": {},
   "outputs": [
    {
     "name": "stdout",
     "output_type": "stream",
     "text": [
      "27690 out of 48773\n",
      "56%\n"
     ]
    },
    {
     "data": {
      "image/png": "[encoded data removed]",
      "text/plain": [
       "<Figure size 432x288 with 1 Axes>"
      ]
     },
     "metadata": {},
     "output_type": "display_data"
    }
   ],
   "source": [
    "# Get entries in 'stopped' column that equal 1\n",
    "stopped_attacks = attack_df[attack_df['stopped']==1]\n",
    "# Display lenght of entries, resulting in int of entries in the DataFrame compared to total number of entries\n",
    "print(str(len(stopped_attacks)) + ' out of ' + str(len(attack_entries)))\n",
    "# Calculate and display percentage of '1' entries\n",
    "print(str(int(len(stopped_attacks)/len(attack_entries)*100))+'%')\n",
    "\n",
    "# Count number of entries for each value in 'stopped' column\n",
    "stopped_attacks = attack_df[\"stopped\"].value_counts()\n",
    "# Plot pie graph\n",
    "stopped_attacks.plot.pie(autopct='%1.1f%%')\n",
    "# Display graph\n",
    "plt.show()"
   ]
  },
  {
   "cell_type": "markdown",
   "metadata": {},
   "source": [
    "## Conclusion"
   ]
  },
  {
   "cell_type": "code",
   "execution_count": null,
   "metadata": {},
   "outputs": [],
   "source": []
  },
  {
   "cell_type": "code",
   "execution_count": null,
   "metadata": {},
   "outputs": [],
   "source": []
  },
  {
   "cell_type": "code",
   "execution_count": null,
   "metadata": {},
   "outputs": [],
   "source": []
  }
 ],
 "metadata": {
  "kernelspec": {
   "display_name": "Python 3",
   "language": "python",
   "name": "python3"
  },
  "language_info": {
   "codemirror_mode": {
    "name": "ipython",
    "version": 3
   },
   "file_extension": ".py",
   "mimetype": "text/x-python",
   "name": "python",
   "nbconvert_exporter": "python",
   "pygments_lexer": "ipython3",
   "version": "3.7.4"
  }
 },
 "nbformat": 4,
 "nbformat_minor": 2
}
